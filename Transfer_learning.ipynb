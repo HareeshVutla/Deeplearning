{
  "nbformat": 4,
  "nbformat_minor": 0,
  "metadata": {
    "colab": {
      "name": "Transfer_learning.ipynb",
      "provenance": [],
      "authorship_tag": "ABX9TyMtcssMeZOabSoxLfygxKUE",
      "include_colab_link": true
    },
    "kernelspec": {
      "name": "python3",
      "display_name": "Python 3"
    },
    "language_info": {
      "name": "python"
    }
  },
  "cells": [
    {
      "cell_type": "markdown",
      "metadata": {
        "id": "view-in-github",
        "colab_type": "text"
      },
      "source": [
        "<a href=\"https://colab.research.google.com/github/HareeshVutla/Deeplearning/blob/main/Transfer_learning.ipynb\" target=\"_parent\"><img src=\"https://colab.research.google.com/assets/colab-badge.svg\" alt=\"Open In Colab\"/></a>"
      ]
    },
    {
      "cell_type": "markdown",
      "source": [
        "# **Transfer Learning**"
      ],
      "metadata": {
        "id": "Eagts8_jb08U"
      }
    },
    {
      "cell_type": "markdown",
      "source": [
        "Transfer learning is a research problem in machine learning that focuses on storing knowledge gained while solving one problem and applying it to a differenent but related problem. For instance, the knowledge gained while learning to recognize cars could apply when trying to recognize trucks"
      ],
      "metadata": {
        "id": "qu5Y_ezBb5kD"
      }
    }
  ]
}