{
  "nbformat": 4,
  "nbformat_minor": 0,
  "metadata": {
    "colab": {
      "name": "Untitled9.ipynb",
      "provenance": [],
      "authorship_tag": "ABX9TyOKb7aTCqnr34bD/T9MPa8i",
      "include_colab_link": true
    },
    "kernelspec": {
      "name": "python3",
      "display_name": "Python 3"
    },
    "language_info": {
      "name": "python"
    }
  },
  "cells": [
    {
      "cell_type": "markdown",
      "metadata": {
        "id": "view-in-github",
        "colab_type": "text"
      },
      "source": [
        "<a href=\"https://colab.research.google.com/github/HareeshVutla/Deeplearning/blob/main/residual_nets.ipynb\" target=\"_parent\"><img src=\"https://colab.research.google.com/assets/colab-badge.svg\" alt=\"Open In Colab\"/></a>"
      ]
    },
    {
      "cell_type": "markdown",
      "source": [
        "# **Residual Networks Using keras**"
      ],
      "metadata": {
        "id": "ssb-phGmu6i2"
      }
    },
    {
      "cell_type": "markdown",
      "source": [
        "In theory, very deep networks can represent very complex functions; but in practice, they are hard to train. Residual Networks, introduced by He et al.,(https://arxiv.org/pdf/1512.03385.pdf) allow you to train much deeper networks than were previously practically feasible"
      ],
      "metadata": {
        "id": "Zb-MB6UWvAFv"
      }
    },
    {
      "cell_type": "code",
      "source": [
        "import numpy as np\n",
        "from keras import layers\n"
      ],
      "metadata": {
        "id": "UyHYDQJgvzWu"
      },
      "execution_count": 1,
      "outputs": []
    }
  ]
}