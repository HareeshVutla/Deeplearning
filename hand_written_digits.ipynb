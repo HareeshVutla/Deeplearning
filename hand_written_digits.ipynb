{
  "nbformat": 4,
  "nbformat_minor": 0,
  "metadata": {
    "colab": {
      "name": "hand_written_digits.ipynb",
      "provenance": [],
      "authorship_tag": "ABX9TyOE9yLATkSVnUX6+lsVRizJ",
      "include_colab_link": true
    },
    "kernelspec": {
      "name": "python3",
      "display_name": "Python 3"
    },
    "language_info": {
      "name": "python"
    },
    "widgets": {
      "application/vnd.jupyter.widget-state+json": {
        "556e21b4800c4616b68e20d852c8d8b5": {
          "model_module": "@jupyter-widgets/controls",
          "model_name": "HBoxModel",
          "model_module_version": "1.5.0",
          "state": {
            "_dom_classes": [],
            "_model_module": "@jupyter-widgets/controls",
            "_model_module_version": "1.5.0",
            "_model_name": "HBoxModel",
            "_view_count": null,
            "_view_module": "@jupyter-widgets/controls",
            "_view_module_version": "1.5.0",
            "_view_name": "HBoxView",
            "box_style": "",
            "children": [
              "IPY_MODEL_04a0252a51d44ccd99ba07cea1bdbc02",
              "IPY_MODEL_00d7aa7450cf4ab38339562c960a52c3",
              "IPY_MODEL_752215712e2240e59d7e631b7750412a"
            ],
            "layout": "IPY_MODEL_f910f7e9d10b47e49c241dbfda5e8f1e"
          }
        },
        "04a0252a51d44ccd99ba07cea1bdbc02": {
          "model_module": "@jupyter-widgets/controls",
          "model_name": "HTMLModel",
          "model_module_version": "1.5.0",
          "state": {
            "_dom_classes": [],
            "_model_module": "@jupyter-widgets/controls",
            "_model_module_version": "1.5.0",
            "_model_name": "HTMLModel",
            "_view_count": null,
            "_view_module": "@jupyter-widgets/controls",
            "_view_module_version": "1.5.0",
            "_view_name": "HTMLView",
            "description": "",
            "description_tooltip": null,
            "layout": "IPY_MODEL_aacded3a7ce549e6afee05ab01360652",
            "placeholder": "​",
            "style": "IPY_MODEL_77cb0a5f429645aea310201a706e73ab",
            "value": "Dl Completed...: 100%"
          }
        },
        "00d7aa7450cf4ab38339562c960a52c3": {
          "model_module": "@jupyter-widgets/controls",
          "model_name": "FloatProgressModel",
          "model_module_version": "1.5.0",
          "state": {
            "_dom_classes": [],
            "_model_module": "@jupyter-widgets/controls",
            "_model_module_version": "1.5.0",
            "_model_name": "FloatProgressModel",
            "_view_count": null,
            "_view_module": "@jupyter-widgets/controls",
            "_view_module_version": "1.5.0",
            "_view_name": "ProgressView",
            "bar_style": "success",
            "description": "",
            "description_tooltip": null,
            "layout": "IPY_MODEL_f523cbee77134b0a9f1cc8093f209788",
            "max": 4,
            "min": 0,
            "orientation": "horizontal",
            "style": "IPY_MODEL_0f04df566ec843a6938158ed0d483e68",
            "value": 4
          }
        },
        "752215712e2240e59d7e631b7750412a": {
          "model_module": "@jupyter-widgets/controls",
          "model_name": "HTMLModel",
          "model_module_version": "1.5.0",
          "state": {
            "_dom_classes": [],
            "_model_module": "@jupyter-widgets/controls",
            "_model_module_version": "1.5.0",
            "_model_name": "HTMLModel",
            "_view_count": null,
            "_view_module": "@jupyter-widgets/controls",
            "_view_module_version": "1.5.0",
            "_view_name": "HTMLView",
            "description": "",
            "description_tooltip": null,
            "layout": "IPY_MODEL_d0d44d52c3834cf197362d7290b4092e",
            "placeholder": "​",
            "style": "IPY_MODEL_731474461413498ea948e3ff8120fe69",
            "value": " 4/4 [00:00&lt;00:00, 11.62 file/s]"
          }
        },
        "f910f7e9d10b47e49c241dbfda5e8f1e": {
          "model_module": "@jupyter-widgets/base",
          "model_name": "LayoutModel",
          "model_module_version": "1.2.0",
          "state": {
            "_model_module": "@jupyter-widgets/base",
            "_model_module_version": "1.2.0",
            "_model_name": "LayoutModel",
            "_view_count": null,
            "_view_module": "@jupyter-widgets/base",
            "_view_module_version": "1.2.0",
            "_view_name": "LayoutView",
            "align_content": null,
            "align_items": null,
            "align_self": null,
            "border": null,
            "bottom": null,
            "display": null,
            "flex": null,
            "flex_flow": null,
            "grid_area": null,
            "grid_auto_columns": null,
            "grid_auto_flow": null,
            "grid_auto_rows": null,
            "grid_column": null,
            "grid_gap": null,
            "grid_row": null,
            "grid_template_areas": null,
            "grid_template_columns": null,
            "grid_template_rows": null,
            "height": null,
            "justify_content": null,
            "justify_items": null,
            "left": null,
            "margin": null,
            "max_height": null,
            "max_width": null,
            "min_height": null,
            "min_width": null,
            "object_fit": null,
            "object_position": null,
            "order": null,
            "overflow": null,
            "overflow_x": null,
            "overflow_y": null,
            "padding": null,
            "right": null,
            "top": null,
            "visibility": null,
            "width": null
          }
        },
        "aacded3a7ce549e6afee05ab01360652": {
          "model_module": "@jupyter-widgets/base",
          "model_name": "LayoutModel",
          "model_module_version": "1.2.0",
          "state": {
            "_model_module": "@jupyter-widgets/base",
            "_model_module_version": "1.2.0",
            "_model_name": "LayoutModel",
            "_view_count": null,
            "_view_module": "@jupyter-widgets/base",
            "_view_module_version": "1.2.0",
            "_view_name": "LayoutView",
            "align_content": null,
            "align_items": null,
            "align_self": null,
            "border": null,
            "bottom": null,
            "display": null,
            "flex": null,
            "flex_flow": null,
            "grid_area": null,
            "grid_auto_columns": null,
            "grid_auto_flow": null,
            "grid_auto_rows": null,
            "grid_column": null,
            "grid_gap": null,
            "grid_row": null,
            "grid_template_areas": null,
            "grid_template_columns": null,
            "grid_template_rows": null,
            "height": null,
            "justify_content": null,
            "justify_items": null,
            "left": null,
            "margin": null,
            "max_height": null,
            "max_width": null,
            "min_height": null,
            "min_width": null,
            "object_fit": null,
            "object_position": null,
            "order": null,
            "overflow": null,
            "overflow_x": null,
            "overflow_y": null,
            "padding": null,
            "right": null,
            "top": null,
            "visibility": null,
            "width": null
          }
        },
        "77cb0a5f429645aea310201a706e73ab": {
          "model_module": "@jupyter-widgets/controls",
          "model_name": "DescriptionStyleModel",
          "model_module_version": "1.5.0",
          "state": {
            "_model_module": "@jupyter-widgets/controls",
            "_model_module_version": "1.5.0",
            "_model_name": "DescriptionStyleModel",
            "_view_count": null,
            "_view_module": "@jupyter-widgets/base",
            "_view_module_version": "1.2.0",
            "_view_name": "StyleView",
            "description_width": ""
          }
        },
        "f523cbee77134b0a9f1cc8093f209788": {
          "model_module": "@jupyter-widgets/base",
          "model_name": "LayoutModel",
          "model_module_version": "1.2.0",
          "state": {
            "_model_module": "@jupyter-widgets/base",
            "_model_module_version": "1.2.0",
            "_model_name": "LayoutModel",
            "_view_count": null,
            "_view_module": "@jupyter-widgets/base",
            "_view_module_version": "1.2.0",
            "_view_name": "LayoutView",
            "align_content": null,
            "align_items": null,
            "align_self": null,
            "border": null,
            "bottom": null,
            "display": null,
            "flex": null,
            "flex_flow": null,
            "grid_area": null,
            "grid_auto_columns": null,
            "grid_auto_flow": null,
            "grid_auto_rows": null,
            "grid_column": null,
            "grid_gap": null,
            "grid_row": null,
            "grid_template_areas": null,
            "grid_template_columns": null,
            "grid_template_rows": null,
            "height": null,
            "justify_content": null,
            "justify_items": null,
            "left": null,
            "margin": null,
            "max_height": null,
            "max_width": null,
            "min_height": null,
            "min_width": null,
            "object_fit": null,
            "object_position": null,
            "order": null,
            "overflow": null,
            "overflow_x": null,
            "overflow_y": null,
            "padding": null,
            "right": null,
            "top": null,
            "visibility": null,
            "width": null
          }
        },
        "0f04df566ec843a6938158ed0d483e68": {
          "model_module": "@jupyter-widgets/controls",
          "model_name": "ProgressStyleModel",
          "model_module_version": "1.5.0",
          "state": {
            "_model_module": "@jupyter-widgets/controls",
            "_model_module_version": "1.5.0",
            "_model_name": "ProgressStyleModel",
            "_view_count": null,
            "_view_module": "@jupyter-widgets/base",
            "_view_module_version": "1.2.0",
            "_view_name": "StyleView",
            "bar_color": null,
            "description_width": ""
          }
        },
        "d0d44d52c3834cf197362d7290b4092e": {
          "model_module": "@jupyter-widgets/base",
          "model_name": "LayoutModel",
          "model_module_version": "1.2.0",
          "state": {
            "_model_module": "@jupyter-widgets/base",
            "_model_module_version": "1.2.0",
            "_model_name": "LayoutModel",
            "_view_count": null,
            "_view_module": "@jupyter-widgets/base",
            "_view_module_version": "1.2.0",
            "_view_name": "LayoutView",
            "align_content": null,
            "align_items": null,
            "align_self": null,
            "border": null,
            "bottom": null,
            "display": null,
            "flex": null,
            "flex_flow": null,
            "grid_area": null,
            "grid_auto_columns": null,
            "grid_auto_flow": null,
            "grid_auto_rows": null,
            "grid_column": null,
            "grid_gap": null,
            "grid_row": null,
            "grid_template_areas": null,
            "grid_template_columns": null,
            "grid_template_rows": null,
            "height": null,
            "justify_content": null,
            "justify_items": null,
            "left": null,
            "margin": null,
            "max_height": null,
            "max_width": null,
            "min_height": null,
            "min_width": null,
            "object_fit": null,
            "object_position": null,
            "order": null,
            "overflow": null,
            "overflow_x": null,
            "overflow_y": null,
            "padding": null,
            "right": null,
            "top": null,
            "visibility": null,
            "width": null
          }
        },
        "731474461413498ea948e3ff8120fe69": {
          "model_module": "@jupyter-widgets/controls",
          "model_name": "DescriptionStyleModel",
          "model_module_version": "1.5.0",
          "state": {
            "_model_module": "@jupyter-widgets/controls",
            "_model_module_version": "1.5.0",
            "_model_name": "DescriptionStyleModel",
            "_view_count": null,
            "_view_module": "@jupyter-widgets/base",
            "_view_module_version": "1.2.0",
            "_view_name": "StyleView",
            "description_width": ""
          }
        }
      }
    }
  },
  "cells": [
    {
      "cell_type": "markdown",
      "metadata": {
        "id": "view-in-github",
        "colab_type": "text"
      },
      "source": [
        "<a href=\"https://colab.research.google.com/github/HareeshVutla/Deeplearning/blob/main/hand_written_digits.ipynb\" target=\"_parent\"><img src=\"https://colab.research.google.com/assets/colab-badge.svg\" alt=\"Open In Colab\"/></a>"
      ]
    },
    {
      "cell_type": "code",
      "source": [
        "import tensorflow as tf\n",
        "import numpy as np\n",
        "from tensorflow import keras\n",
        "import matplotlib.pyplot as plt\n",
        "import tensorflow_datasets as tfds\n",
        "from tensorflow.keras import datasets, layers, models\n",
        "from tensorflow.keras.models import Sequential"
      ],
      "metadata": {
        "id": "8imRvF7LRiux"
      },
      "execution_count": 2,
      "outputs": []
    },
    {
      "cell_type": "code",
      "source": [
        "(img_train, label_train), (img_test, label_test) = (tfds.load(\n",
        "    'mnist',\n",
        "    split=['train', 'test'],\n",
        "    batch_size=-1,\n",
        "    as_supervised=True,\n",
        "))"
      ],
      "metadata": {
        "colab": {
          "base_uri": "https://localhost:8080/",
          "height": 260,
          "referenced_widgets": [
            "556e21b4800c4616b68e20d852c8d8b5",
            "04a0252a51d44ccd99ba07cea1bdbc02",
            "00d7aa7450cf4ab38339562c960a52c3",
            "752215712e2240e59d7e631b7750412a",
            "f910f7e9d10b47e49c241dbfda5e8f1e",
            "aacded3a7ce549e6afee05ab01360652",
            "77cb0a5f429645aea310201a706e73ab",
            "f523cbee77134b0a9f1cc8093f209788",
            "0f04df566ec843a6938158ed0d483e68",
            "d0d44d52c3834cf197362d7290b4092e",
            "731474461413498ea948e3ff8120fe69"
          ]
        },
        "id": "cYiXgns4p6lj",
        "outputId": "d7c9499e-9811-40c3-8650-86535377dd5e"
      },
      "execution_count": 3,
      "outputs": [
        {
          "output_type": "stream",
          "name": "stdout",
          "text": [
            "\u001b[1mDownloading and preparing dataset mnist/3.0.1 (download: 11.06 MiB, generated: 21.00 MiB, total: 32.06 MiB) to /root/tensorflow_datasets/mnist/3.0.1...\u001b[0m\n"
          ]
        },
        {
          "output_type": "stream",
          "name": "stderr",
          "text": [
            "WARNING:absl:Dataset mnist is hosted on GCS. It will automatically be downloaded to your\n",
            "local data directory. If you'd instead prefer to read directly from our public\n",
            "GCS bucket (recommended if you're running on GCP), you can instead pass\n",
            "`try_gcs=True` to `tfds.load` or set `data_dir=gs://tfds-data/datasets`.\n",
            "\n"
          ]
        },
        {
          "output_type": "display_data",
          "data": {
            "text/plain": [
              "Dl Completed...:   0%|          | 0/4 [00:00<?, ? file/s]"
            ],
            "application/vnd.jupyter.widget-view+json": {
              "version_major": 2,
              "version_minor": 0,
              "model_id": "556e21b4800c4616b68e20d852c8d8b5"
            }
          },
          "metadata": {}
        },
        {
          "output_type": "stream",
          "name": "stderr",
          "text": [
            "WARNING:tensorflow:From /usr/local/lib/python3.7/dist-packages/tensorflow_datasets/core/dataset_builder.py:598: get_single_element (from tensorflow.python.data.experimental.ops.get_single_element) is deprecated and will be removed in a future version.\n",
            "Instructions for updating:\n",
            "Use `tf.data.Dataset.get_single_element()`.\n"
          ]
        },
        {
          "output_type": "stream",
          "name": "stdout",
          "text": [
            "\n",
            "\u001b[1mDataset mnist downloaded and prepared to /root/tensorflow_datasets/mnist/3.0.1. Subsequent calls will reuse this data.\u001b[0m\n"
          ]
        }
      ]
    },
    {
      "cell_type": "code",
      "source": [
        "print(\"training_images_size :\",img_train.shape)\n",
        "print(\"training_labels_size :\",label_train.shape)\n",
        "print(\"testing_images_size  :\",img_test.shape)\n",
        "print(\"testing_labels_size  :\",label_test.shape)"
      ],
      "metadata": {
        "colab": {
          "base_uri": "https://localhost:8080/"
        },
        "id": "a7JeojTWrYl6",
        "outputId": "6ee6e40d-57e4-48d8-cbcd-82e812688efd"
      },
      "execution_count": 4,
      "outputs": [
        {
          "output_type": "stream",
          "name": "stdout",
          "text": [
            "training_images_size : (60000, 28, 28, 1)\n",
            "training_labels_size : (60000,)\n",
            "testing_images_size  : (10000, 28, 28, 1)\n",
            "testing_labels_size  : (10000,)\n"
          ]
        }
      ]
    },
    {
      "cell_type": "code",
      "source": [
        "m, n_H, n_W, c = img_train.shape"
      ],
      "metadata": {
        "id": "C8KH8z3g329i"
      },
      "execution_count": 5,
      "outputs": []
    },
    {
      "cell_type": "code",
      "source": [
        "print(m)"
      ],
      "metadata": {
        "colab": {
          "base_uri": "https://localhost:8080/"
        },
        "id": "6NEzbge1xebm",
        "outputId": "ecd21c9b-3f72-4cde-ac5c-294e46b9a997"
      },
      "execution_count": 6,
      "outputs": [
        {
          "output_type": "stream",
          "name": "stdout",
          "text": [
            "60000\n"
          ]
        }
      ]
    },
    {
      "cell_type": "code",
      "source": [
        "img_train1 = np.squeeze(img_train[0], axis=2) "
      ],
      "metadata": {
        "id": "L20Ku4550r2c"
      },
      "execution_count": 7,
      "outputs": []
    },
    {
      "cell_type": "code",
      "source": [
        "plt.imshow(img_train1)"
      ],
      "metadata": {
        "colab": {
          "base_uri": "https://localhost:8080/",
          "height": 282
        },
        "id": "52eSvLgFxknt",
        "outputId": "3e1b19e4-67aa-4534-92c3-237a747cf9f1"
      },
      "execution_count": 8,
      "outputs": [
        {
          "output_type": "execute_result",
          "data": {
            "text/plain": [
              "<matplotlib.image.AxesImage at 0x7f10c167e590>"
            ]
          },
          "metadata": {},
          "execution_count": 8
        },
        {
          "output_type": "display_data",
          "data": {
            "text/plain": [
              "<Figure size 432x288 with 1 Axes>"
            ],
            "image/png": "[encoded data removed]"
          },
          "metadata": {
            "needs_background": "light"
          }
        }
      ]
    },
    {
      "cell_type": "code",
      "source": [
        "img_train = img_train/255\n",
        "img_test = img_test/255"
      ],
      "metadata": {
        "id": "FoqDa7Vt4omB"
      },
      "execution_count": 9,
      "outputs": []
    },
    {
      "cell_type": "markdown",
      "source": [
        "# **Simple ANN**"
      ],
      "metadata": {
        "id": "CAMpP4Y6_OC9"
      }
    },
    {
      "cell_type": "code",
      "source": [
        "ANN = models.Sequential([layers.Flatten(input_shape= (28,28,1)),\n",
        "                         layers.Dense(300, activation = 'relu'),\n",
        "                         layers.Dense(100, activation = 'relu'),\n",
        "                         layers.Dense(10,activation = 'sigmoid')])\n",
        "\n",
        "ANN.compile(optimizer = 'SGD',\n",
        "            loss= 'sparse_categorical_crossentropy',\n",
        "            metrics = ['accuracy'])\n",
        "\n",
        "ANN.fit(img_train, label_train, epochs = 5)"
      ],
      "metadata": {
        "colab": {
          "base_uri": "https://localhost:8080/"
        },
        "id": "FTEe0Dl04p6Z",
        "outputId": "17617cde-4ca3-4b63-a92b-22104ec8dce6"
      },
      "execution_count": 10,
      "outputs": [
        {
          "output_type": "stream",
          "name": "stdout",
          "text": [
            "Epoch 1/5\n",
            "1875/1875 [==============================] - 6s 3ms/step - loss: 0.5793 - accuracy: 0.8501\n",
            "Epoch 2/5\n",
            "1875/1875 [==============================] - 6s 3ms/step - loss: 0.2748 - accuracy: 0.9215\n",
            "Epoch 3/5\n",
            "1875/1875 [==============================] - 6s 3ms/step - loss: 0.2247 - accuracy: 0.9362\n",
            "Epoch 4/5\n",
            "1875/1875 [==============================] - 6s 3ms/step - loss: 0.1915 - accuracy: 0.9448\n",
            "Epoch 5/5\n",
            "1875/1875 [==============================] - 6s 3ms/step - loss: 0.1660 - accuracy: 0.9524\n"
          ]
        },
        {
          "output_type": "execute_result",
          "data": {
            "text/plain": [
              "<keras.callbacks.History at 0x7f10c10fb5d0>"
            ]
          },
          "metadata": {},
          "execution_count": 10
        }
      ]
    },
    {
      "cell_type": "code",
      "source": [
        "ANN.evaluate (img_test, label_test)"
      ],
      "metadata": {
        "colab": {
          "base_uri": "https://localhost:8080/"
        },
        "id": "Pta9z9kj5G-R",
        "outputId": "e24953af-0d1a-497b-ba44-b28fc9b81ffc"
      },
      "execution_count": 11,
      "outputs": [
        {
          "output_type": "stream",
          "name": "stdout",
          "text": [
            "313/313 [==============================] - 1s 2ms/step - loss: 0.1572 - accuracy: 0.9534\n"
          ]
        },
        {
          "output_type": "execute_result",
          "data": {
            "text/plain": [
              "[0.15716597437858582, 0.9534000158309937]"
            ]
          },
          "metadata": {},
          "execution_count": 11
        }
      ]
    },
    {
      "cell_type": "code",
      "source": [
        "img_pred = ANN.predict(img_test)"
      ],
      "metadata": {
        "id": "-YU1nFPI5KxJ"
      },
      "execution_count": 12,
      "outputs": []
    },
    {
      "cell_type": "code",
      "source": [
        "plt.imshow(np.squeeze(img_test[10], axis=2) )"
      ],
      "metadata": {
        "colab": {
          "base_uri": "https://localhost:8080/",
          "height": 282
        },
        "id": "smAehgtp7_8f",
        "outputId": "520f9ca8-321d-4d8e-aa6d-2de55ffe629b"
      },
      "execution_count": 13,
      "outputs": [
        {
          "output_type": "execute_result",
          "data": {
            "text/plain": [
              "<matplotlib.image.AxesImage at 0x7f10c06f8650>"
            ]
          },
          "metadata": {},
          "execution_count": 13
        },
        {
          "output_type": "display_data",
          "data": {
            "text/plain": [
              "<Figure size 432x288 with 1 Axes>"
            ],
            "image/png": "[encoded data removed]"
          },
          "metadata": {
            "needs_background": "light"
          }
        }
      ]
    },
    {
      "cell_type": "code",
      "source": [
        "print(np.argmax(img_pred[10]))"
      ],
      "metadata": {
        "colab": {
          "base_uri": "https://localhost:8080/"
        },
        "id": "oae9tiR98vem",
        "outputId": "8c3cf82b-d131-465a-c249-3474a83c5e2f"
      },
      "execution_count": 14,
      "outputs": [
        {
          "output_type": "stream",
          "name": "stdout",
          "text": [
            "8\n"
          ]
        }
      ]
    },
    {
      "cell_type": "code",
      "source": [
        "img_pred_classes = [np.argmax(index) for index in img_pred]"
      ],
      "metadata": {
        "id": "6WglOekF-3Id"
      },
      "execution_count": 15,
      "outputs": []
    },
    {
      "cell_type": "code",
      "source": [
        "from sklearn.metrics import confusion_matrix, classification_report\n",
        "digit_classes = [\"0\", \"1\", \"2\", \"3\", \"4\", \"5\", \"6\", \"7\", \"8\", \"9\"]"
      ],
      "metadata": {
        "id": "TUB1uNpx9P5N"
      },
      "execution_count": 16,
      "outputs": []
    },
    {
      "cell_type": "code",
      "source": [
        "print(\"classification Report: \\n\", classification_report(label_test, img_pred_classes))"
      ],
      "metadata": {
        "colab": {
          "base_uri": "https://localhost:8080/"
        },
        "id": "04dHultn9Tkm",
        "outputId": "f1684d67-3e36-4c67-b74d-3efda2b4e52c"
      },
      "execution_count": 17,
      "outputs": [
        {
          "output_type": "stream",
          "name": "stdout",
          "text": [
            "classification Report: \n",
            "               precision    recall  f1-score   support\n",
            "\n",
            "           0       0.97      0.98      0.98       980\n",
            "           1       0.98      0.98      0.98      1135\n",
            "           2       0.96      0.96      0.96      1032\n",
            "           3       0.94      0.95      0.94      1010\n",
            "           4       0.94      0.96      0.95       982\n",
            "           5       0.95      0.92      0.94       892\n",
            "           6       0.97      0.95      0.96       958\n",
            "           7       0.95      0.95      0.95      1028\n",
            "           8       0.91      0.95      0.93       974\n",
            "           9       0.95      0.92      0.94      1009\n",
            "\n",
            "    accuracy                           0.95     10000\n",
            "   macro avg       0.95      0.95      0.95     10000\n",
            "weighted avg       0.95      0.95      0.95     10000\n",
            "\n"
          ]
        }
      ]
    },
    {
      "cell_type": "markdown",
      "source": [
        "# **CNN**"
      ],
      "metadata": {
        "id": "K5Yr1-oH_R27"
      }
    },
    {
      "cell_type": "code",
      "source": [
        "CNN = models.Sequential([\n",
        "                         # CNN\n",
        "                         layers.Conv2D(filters = 32, kernel_size = (3,3), activation = 'relu', input_shape = (28,28,1) ),\n",
        "                         layers.MaxPooling2D((2,2)),\n",
        "                         layers.Conv2D(filters = 64, kernel_size = (3,3), activation = 'relu' ),\n",
        "                         layers.MaxPooling2D((2,2)),\n",
        "                         layers.Conv2D(filters = 128, kernel_size = (3,3), activation = 'relu' ),\n",
        "                         layers.MaxPooling2D((2,2)),\n",
        "\n",
        "                         # Dense\n",
        "                         \n",
        "                         layers.Flatten(),\n",
        "                         layers.Dense(64, activation = 'relu'),\n",
        "                         layers.Dense(10,activation = 'softmax')])\n"
      ],
      "metadata": {
        "id": "ZHFhR-Em_Twj"
      },
      "execution_count": 20,
      "outputs": []
    },
    {
      "cell_type": "code",
      "source": [
        "CNN.compile(optimizer = 'adam', loss= 'sparse_categorical_crossentropy',\n",
        "              metrics = ['accuracy'])"
      ],
      "metadata": {
        "id": "dlS8yaAxbhHV"
      },
      "execution_count": 21,
      "outputs": []
    },
    {
      "cell_type": "code",
      "source": [
        "CNN.fit(img_train, label_train, epochs = 10)"
      ],
      "metadata": {
        "colab": {
          "base_uri": "https://localhost:8080/"
        },
        "id": "C73_UOsDbjBD",
        "outputId": "aaafe9fb-4422-4aec-f336-5bd8783dec03"
      },
      "execution_count": 22,
      "outputs": [
        {
          "output_type": "stream",
          "name": "stdout",
          "text": [
            "Epoch 1/10\n",
            "1875/1875 [==============================] - 61s 32ms/step - loss: 0.1940 - accuracy: 0.9399\n",
            "Epoch 2/10\n",
            "1875/1875 [==============================] - 60s 32ms/step - loss: 0.0687 - accuracy: 0.9796\n",
            "Epoch 3/10\n",
            "1875/1875 [==============================] - 60s 32ms/step - loss: 0.0487 - accuracy: 0.9850\n",
            "Epoch 4/10\n",
            "1875/1875 [==============================] - 60s 32ms/step - loss: 0.0359 - accuracy: 0.9889\n",
            "Epoch 5/10\n",
            "1875/1875 [==============================] - 60s 32ms/step - loss: 0.0289 - accuracy: 0.9909\n",
            "Epoch 6/10\n",
            "1875/1875 [==============================] - 60s 32ms/step - loss: 0.0230 - accuracy: 0.9926\n",
            "Epoch 7/10\n",
            "1875/1875 [==============================] - 60s 32ms/step - loss: 0.0183 - accuracy: 0.9942\n",
            "Epoch 8/10\n",
            "1875/1875 [==============================] - 60s 32ms/step - loss: 0.0151 - accuracy: 0.9949\n",
            "Epoch 9/10\n",
            "1875/1875 [==============================] - 60s 32ms/step - loss: 0.0138 - accuracy: 0.9955\n",
            "Epoch 10/10\n",
            "1875/1875 [==============================] - 59s 32ms/step - loss: 0.0117 - accuracy: 0.9962\n"
          ]
        },
        {
          "output_type": "execute_result",
          "data": {
            "text/plain": [
              "<keras.callbacks.History at 0x7f10bf0cdf10>"
            ]
          },
          "metadata": {},
          "execution_count": 22
        }
      ]
    },
    {
      "cell_type": "code",
      "source": [
        "CNN.evaluate(img_test, label_test)"
      ],
      "metadata": {
        "colab": {
          "base_uri": "https://localhost:8080/"
        },
        "id": "uoHPmjJAex7T",
        "outputId": "0b7a3a0f-9902-4be8-db86-aea0b3c3cf2d"
      },
      "execution_count": 23,
      "outputs": [
        {
          "output_type": "stream",
          "name": "stdout",
          "text": [
            "313/313 [==============================] - 4s 12ms/step - loss: 0.0435 - accuracy: 0.9893\n"
          ]
        },
        {
          "output_type": "execute_result",
          "data": {
            "text/plain": [
              "[0.04353836178779602, 0.989300012588501]"
            ]
          },
          "metadata": {},
          "execution_count": 23
        }
      ]
    },
    {
      "cell_type": "code",
      "source": [
        "img_pred_CNN = CNN.predict(img_test)"
      ],
      "metadata": {
        "id": "XOLq2iXqe7N5"
      },
      "execution_count": 24,
      "outputs": []
    },
    {
      "cell_type": "code",
      "source": [
        "label_classes = [np.argmax(element) for element in img_pred]\n",
        "print(label_classes[:5])"
      ],
      "metadata": {
        "colab": {
          "base_uri": "https://localhost:8080/"
        },
        "id": "tF9sO9OMfOSx",
        "outputId": "c0cf1aa2-f7a8-49f0-ac2d-953534d49f93"
      },
      "execution_count": 25,
      "outputs": [
        {
          "output_type": "stream",
          "name": "stdout",
          "text": [
            "[2, 0, 4, 8, 7]\n"
          ]
        }
      ]
    },
    {
      "cell_type": "code",
      "source": [
        "plt.imshow(np.squeeze(img_test[44], axis=2) )\n",
        "print(\"CNN prediction:\\n\", np.argmax(img_pred[44]))"
      ],
      "metadata": {
        "colab": {
          "base_uri": "https://localhost:8080/",
          "height": 300
        },
        "id": "K0xMZUdyfU8o",
        "outputId": "5e366c38-149e-4840-d777-8641e11ab640"
      },
      "execution_count": 31,
      "outputs": [
        {
          "output_type": "stream",
          "name": "stdout",
          "text": [
            "CNN prediction:\n",
            " 4\n"
          ]
        },
        {
          "output_type": "display_data",
          "data": {
            "text/plain": [
              "<Figure size 432x288 with 1 Axes>"
            ],
            "image/png": "[encoded data removed]"
          },
          "metadata": {
            "needs_background": "light"
          }
        }
      ]
    }
  ]
}