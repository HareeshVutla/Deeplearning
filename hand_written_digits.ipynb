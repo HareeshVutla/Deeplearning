{
  "nbformat": 4,
  "nbformat_minor": 0,
  "metadata": {
    "colab": {
      "name": "hand_written_digits.ipynb",
      "provenance": [],
      "authorship_tag": "ABX9TyM3lsOtpMiWvMiM0n/0nF5R",
      "include_colab_link": true
    },
    "kernelspec": {
      "name": "python3",
      "display_name": "Python 3"
    },
    "language_info": {
      "name": "python"
    }
  },
  "cells": [
    {
      "cell_type": "markdown",
      "metadata": {
        "id": "view-in-github",
        "colab_type": "text"
      },
      "source": [
        "<a href=\"https://colab.research.google.com/github/HareeshVutla/Deeplearning/blob/main/hand_written_digits.ipynb\" target=\"_parent\"><img src=\"https://colab.research.google.com/assets/colab-badge.svg\" alt=\"Open In Colab\"/></a>"
      ]
    },
    {
      "cell_type": "code",
      "source": [
        "import tensorflow as tf\n",
        "import numpy as np\n",
        "import matplotlib.pyplot as plt\n",
        "import tensorflow_datasets as tfds\n",
        "from tensorflow.keras import datasets, layers, models"
      ],
      "metadata": {
        "id": "8imRvF7LRiux"
      },
      "execution_count": 14,
      "outputs": []
    },
    {
      "cell_type": "code",
      "source": [
        "(img_train, label_train), (img_test, label_test) = (tfds.load(\n",
        "    'mnist',\n",
        "    split=['train', 'test'],\n",
        "    batch_size=-1,\n",
        "    as_supervised=True,\n",
        "))"
      ],
      "metadata": {
        "id": "cYiXgns4p6lj"
      },
      "execution_count": 24,
      "outputs": []
    },
    {
      "cell_type": "code",
      "source": [
        "print(\"training_images_size :\",img_train.shape)\n",
        "print(\"training_labels_size :\",label_train.shape)\n",
        "print(\"testing_images_size  :\",img_test.shape)\n",
        "print(\"testing_labels_size  :\",label_test.shape)"
      ],
      "metadata": {
        "colab": {
          "base_uri": "https://localhost:8080/"
        },
        "id": "a7JeojTWrYl6",
        "outputId": "daa628d7-6831-4772-bc05-18ddceac3cb4"
      },
      "execution_count": 25,
      "outputs": [
        {
          "output_type": "stream",
          "name": "stdout",
          "text": [
            "training_images_size : (60000, 28, 28, 1)\n",
            "training_labels_size : (60000,)\n",
            "testing_images_size  : (10000, 28, 28, 1)\n",
            "testing_labels_size  : (10000,)\n"
          ]
        }
      ]
    },
    {
      "cell_type": "code",
      "source": [
        "print(img_train[0].shape)"
      ],
      "metadata": {
        "colab": {
          "base_uri": "https://localhost:8080/"
        },
        "id": "6NEzbge1xebm",
        "outputId": "e22c9744-41fe-4525-d8f4-1ee33be5dd2c"
      },
      "execution_count": 26,
      "outputs": [
        {
          "output_type": "stream",
          "name": "stdout",
          "text": [
            "(28, 28, 1)\n"
          ]
        }
      ]
    },
    {
      "cell_type": "code",
      "source": [
        "plt.imshow(img_train[0])"
      ],
      "metadata": {
        "id": "52eSvLgFxknt"
      },
      "execution_count": null,
      "outputs": []
    }
  ]
}